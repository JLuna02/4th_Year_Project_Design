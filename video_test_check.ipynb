{
 "cells": [
  {
   "cell_type": "code",
   "execution_count": 34,
   "id": "636f88e7",
   "metadata": {},
   "outputs": [],
   "source": [
    "import numpy as np\n",
    "import tensorflow as tf\n",
    "import cv2\n",
    "import time\n",
    "import os\n",
    "from collections import deque, Counter\n",
    "\n",
    "last_capture_time = time.time()\n",
    "counter = 0\n",
    "# Preprocessing function for each frame\n",
    "def preprocess_frame(frame, target_size=(112, 112)):\n",
    "    resized_frame = cv2.resize(frame, target_size)\n",
    "    return resized_frame.astype(np.float32) / 255.0\n",
    "\n",
    "def most_frequent_label(predictions_deque):\n",
    "    if not predictions_deque:\n",
    "        return \"Unknown\"\n",
    "    label_counts = Counter(predictions_deque)\n",
    "    most_common_label, count = label_counts.most_common(1)[0]\n",
    "    return most_common_label\n",
    "\n",
    "def predict_live_video(model, video_source, target_size=(112, 112), frame_count=10, capture_interval=0.1):\n",
    "    global last_capture_time, counter\n",
    "    predicted_class = 2\n",
    "    cap = cv2.VideoCapture(video_source)\n",
    "    cap.set(cv2.CAP_PROP_FRAME_WIDTH, 360)\n",
    "    cap.set(cv2.CAP_PROP_FRAME_HEIGHT, 100)\n",
    "    \n",
    "    if not cap.isOpened():\n",
    "        print(f\"Error: Could not open video source: {video_source}\")\n",
    "        return\n",
    "    \n",
    "    frames = []\n",
    "    slowdown_factor = 1\n",
    "    fps = cap.get(cv2.CAP_PROP_FPS)  # Get original FPS\n",
    "    delay = (1 / fps) * slowdown_factor  # Slow-motion delay\n",
    "\n",
    "    print(\"Starting prediction... Press 'q' to exit.\")\n",
    "    \n",
    "    while True:\n",
    "        ret, frame = cap.read()\n",
    "        if not ret:\n",
    "            print(\"End of video stream or error reading the frame.\")\n",
    "            break\n",
    "\n",
    "        \n",
    "\n",
    "        current_time = time.time()\n",
    "        elapsed_time = current_time - last_capture_time\n",
    "\n",
    "        # If enough time has passed, process the frame\n",
    "        #if elapsed_time >= capture_interval:\n",
    "        processed_frame = preprocess_frame(frame, target_size)\n",
    "        frames.append(processed_frame)\n",
    "        last_capture_time = current_time  # Reset the capture time\n",
    "\n",
    "        if len(frames) == frame_count:\n",
    "            batch_frames = np.expand_dims(np.stack(frames, axis=0), axis=0)\n",
    "\n",
    "            # This is the confidence probability\n",
    "            prediction = model.predict(batch_frames, verbose=0)\n",
    "\n",
    "            # Get and Output the one with Highest Probability\n",
    "            predicted_class = np.argmax(prediction, axis=1)[0]\n",
    "\n",
    "            frames = []\n",
    "            #print(\"Prediction {}:\".format(counter))\n",
    "            #print(predicted_class)\n",
    "            counter += 1\n",
    "\n",
    "        # Get the most frequent label from the history\n",
    "        stable_prediction = predicted_class\n",
    "\n",
    "        # Map class index to labels\n",
    "        if stable_prediction == 0:\n",
    "            label = \"Brawl\"\n",
    "        elif stable_prediction == 1:\n",
    "            label = \"Fainting\"\n",
    "        elif stable_prediction == 2:\n",
    "            label = \"Normal\"\n",
    "        elif stable_prediction == 3:\n",
    "            label = \"Panic\"\n",
    "        else:\n",
    "            label = \"Unknown\"\n",
    "\n",
    "        # Overlay label on the current frame\n",
    "        cv2.putText(frame, f\"Prediction: {label}\", (20, 30), cv2.FONT_HERSHEY_SIMPLEX,\n",
    "                    1, (0, 255, 0), 2)\n",
    "\n",
    "        for _ in range(slowdown_factor):\n",
    "            cv2.imshow(\"Real-time Monitoring\", frame)\n",
    "            time.sleep(delay)  # Introduce delay\n",
    "\n",
    "        if cv2.waitKey(10) & 0xFF == ord('q'):\n",
    "            break\n",
    "\n",
    "    cap.release()\n",
    "    cv2.destroyAllWindows()"
   ]
  },
  {
   "cell_type": "code",
   "execution_count": 41,
   "id": "e0f81a23",
   "metadata": {},
   "outputs": [
    {
     "name": "stdout",
     "output_type": "stream",
     "text": [
      "Model loaded successfully!\n",
      "(None, 16, 112, 112, 3)\n"
     ]
    }
   ],
   "source": [
    "model_path = 'Project_Model/second_chance15.keras'\n",
    "model = tf.keras.models.load_model(model_path)\n",
    "print(\"Model loaded successfully!\")\n",
    "print(model.input_shape)"
   ]
  },
  {
   "cell_type": "code",
   "execution_count": 42,
   "id": "2cc491ad",
   "metadata": {},
   "outputs": [
    {
     "name": "stdout",
     "output_type": "stream",
     "text": [
      "Starting prediction... Press 'q' to exit.\n"
     ]
    }
   ],
   "source": [
    "video_path = \"D:/Virtual_Storage/JIN/test_video/test4.mp4\"\n",
    "\n",
    "if os.path.isfile(video_path) and video_path.lower().endswith(('.avi', '.mpeg', '.mp4')):\n",
    "    predict_live_video(model, video_path, frame_count=16, capture_interval=0.2)\n",
    "else:\n",
    "    print(f\"Error: The file '{video_path}' does not exist or is not a valid video format.\")"
   ]
  },
  {
   "cell_type": "code",
   "execution_count": null,
   "id": "ab96fd4b",
   "metadata": {},
   "outputs": [],
   "source": []
  }
 ],
 "metadata": {
  "kernelspec": {
   "display_name": "Python 3",
   "language": "python",
   "name": "python3"
  },
  "language_info": {
   "codemirror_mode": {
    "name": "ipython",
    "version": 3
   },
   "file_extension": ".py",
   "mimetype": "text/x-python",
   "name": "python",
   "nbconvert_exporter": "python",
   "pygments_lexer": "ipython3",
   "version": "3.12.4"
  }
 },
 "nbformat": 4,
 "nbformat_minor": 5
}
